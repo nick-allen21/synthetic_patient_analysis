{
  "cells": [
    {
      "cell_type": "markdown",
      "metadata": {
        "id": "view-in-github",
        "colab_type": "text"
      },
      "source": [
        "<a href=\"https://colab.research.google.com/github/nick-allen21/synthetic_patient_analysis/blob/main/nallen21_project1.ipynb\" target=\"_parent\"><img src=\"https://colab.research.google.com/assets/colab-badge.svg\" alt=\"Open In Colab\"/></a>"
      ]
    },
    {
      "cell_type": "markdown",
      "metadata": {
        "id": "U5JUMgc_gbHp"
      },
      "source": [
        "# CS145: Project 1 | Project Name"
      ]
    },
    {
      "cell_type": "markdown",
      "metadata": {
        "id": "EHDiv4GrhofN"
      },
      "source": [
        "## Author\n",
        "* *Nicholas Allen, nallen21*"
      ]
    },
    {
      "cell_type": "markdown",
      "metadata": {
        "id": "gMNQWFvSgepX"
      },
      "source": [
        "# Section 1: Project Overview"
      ]
    },
    {
      "cell_type": "markdown",
      "metadata": {
        "id": "lX1Jkglwg1SI"
      },
      "source": [
        "---\n",
        "I am using synthetic patient data to create actionable incomes for patients. These questions will give htem insight to biggest health risk thier specific demographic and state, as well as what providers / payers they should pursue to help mitigate these risks.\n",
        "\n",
        "1.   Identify the top 3 chronic conditions (e.g., hypertension, diabetes) for each age, gender group\n",
        "2.   Compare the rate of encounters/disease occurence for high, middle, low income groups\n",
        "3. Determine the provider, payer combination for each state that has the longest encounter time with their patients\n",
        "---\n"
      ]
    },
    {
      "cell_type": "markdown",
      "metadata": {
        "id": "r_GvgTCcgv6N"
      },
      "source": [
        "# Section 2: Dataset Analysis"
      ]
    },
    {
      "cell_type": "markdown",
      "source": [
        "###2.1) Init Big Query Resources by connecting to bucket and creating tables"
      ],
      "metadata": {
        "id": "qYoKaRr9o1ud"
      }
    },
    {
      "cell_type": "code",
      "source": [
        "from google.colab import auth\n",
        "auth.authenticate_user()\n",
        "\n",
        "from google.cloud import bigquery, storage\n",
        "\n",
        "PROJECT_ID = \"cs145-project-1-475101\"\n",
        "BUCKET = \"nallen21_bucket_cs145\"\n",
        "DATASET_ID = \"cs145_data\"\n",
        "\n",
        "bq_client = bigquery.Client(project=PROJECT_ID)\n",
        "storage_client = storage.Client(project=PROJECT_ID)\n",
        "\n",
        "# Create dataset if not already created\n",
        "dataset_ref = bigquery.Dataset(f\"{PROJECT_ID}.{DATASET_ID}\")\n",
        "dataset_ref.location = \"US\"\n",
        "bq_client.create_dataset(dataset_ref, exists_ok=True)"
      ],
      "metadata": {
        "colab": {
          "base_uri": "https://localhost:8080/"
        },
        "id": "h5fGl6nVcOF4",
        "outputId": "acae0873-0009-467e-bb15-23080d6886cd"
      },
      "execution_count": 46,
      "outputs": [
        {
          "output_type": "execute_result",
          "data": {
            "text/plain": [
              "Dataset(DatasetReference('cs145-project-1-475101', 'cs145_data'))"
            ]
          },
          "metadata": {},
          "execution_count": 46
        }
      ]
    },
    {
      "cell_type": "markdown",
      "source": [
        "### 2.2) Detailed Overview\n",
        "\n",
        "Using google cloud so cannot get table information from the schema, need to resort to gsutil to get the table schema information. Creating external tables at the same exact time\n"
      ],
      "metadata": {
        "id": "vqnK-W45I5lr"
      }
    },
    {
      "cell_type": "code",
      "source": [
        "import subprocess\n",
        "from google.cloud import bigquery\n",
        "\n",
        "table_ids = [\n",
        "    \"conditions\",\n",
        "    \"encounters\",\n",
        "    \"medications\",\n",
        "    \"observations\",\n",
        "    \"patients\",\n",
        "    \"payer_transitions\",\n",
        "    \"payers\",\n",
        "    \"providers\",\n",
        "]\n",
        "\n",
        "for table_name in table_ids:\n",
        "    table_id = f\"{PROJECT_ID}.{DATASET_ID}.{table_name}_ext\"\n",
        "    gcs_path = f\"gs://{BUCKET}/{table_name}.csv\"\n",
        "\n",
        "    # ---- Create external table ----\n",
        "    external_config = bigquery.ExternalConfig(\"CSV\")\n",
        "    external_config.source_uris = [gcs_path]\n",
        "    external_config.autodetect = True\n",
        "    external_config.options.skip_leading_rows = 1\n",
        "\n",
        "    table = bigquery.Table(table_id)\n",
        "    table.external_data_configuration = external_config\n",
        "\n",
        "    bq_client.create_table(table, exists_ok=True)\n",
        "    print(f\"\\nExternal table created: {table_id}\")\n",
        "\n",
        "    # ---- Get row count ----\n",
        "    row_query = f\"SELECT COUNT(*) AS row_count FROM `{table_id}`\"\n",
        "    row_count = bq_client.query(row_query).to_dataframe().iloc[0, 0]\n",
        "\n",
        "    # ---- Get GCS size ----\n",
        "    # ---- Get GCS size (with units) ----\n",
        "    # Use -s (bytes) so we can control the units\n",
        "    raw = subprocess.run([\"gsutil\", \"du\", \"-s\", gcs_path], capture_output=True, text=True).stdout.strip()\n",
        "\n",
        "    if raw:\n",
        "        bytes_size = int(raw.split()[0])\n",
        "        mb = bytes_size / (1024 * 1024)\n",
        "        # choose MB or GB for nicer display\n",
        "        gcs_size = f\"{mb:.2f} MB\" if mb < 1024 else f\"{mb/1024:.2f} GB\"\n",
        "    else:\n",
        "        gcs_size = \"N/A\"\n",
        "\n",
        "\n",
        "    print(f\"{table_name}_ext — Rows: {row_count:,}, Size: {gcs_size}\")\n"
      ],
      "metadata": {
        "colab": {
          "base_uri": "https://localhost:8080/"
        },
        "id": "TImXwkAH0u-b",
        "outputId": "daace73e-1340-496a-bb0e-c391be8d7d8d"
      },
      "execution_count": 48,
      "outputs": [
        {
          "output_type": "stream",
          "name": "stdout",
          "text": [
            "\n",
            "External table created: cs145-project-1-475101.cs145_data.conditions_ext\n",
            "conditions_ext — Rows: 2,522,756, Size: 379.36 MB\n",
            "\n",
            "External table created: cs145-project-1-475101.cs145_data.encounters_ext\n",
            "encounters_ext — Rows: 4,850,448, Size: 1.51 GB\n",
            "\n",
            "External table created: cs145-project-1-475101.cs145_data.medications_ext\n",
            "medications_ext — Rows: 5,992,699, Size: 1.47 GB\n",
            "\n",
            "External table created: cs145-project-1-475101.cs145_data.observations_ext\n",
            "observations_ext — Rows: 48,847,506, Size: 8.17 GB\n",
            "\n",
            "External table created: cs145-project-1-475101.cs145_data.patients_ext\n",
            "patients_ext — Rows: 61,208, Size: 17.28 MB\n",
            "\n",
            "External table created: cs145-project-1-475101.cs145_data.payer_transitions_ext\n",
            "payer_transitions_ext — Rows: 2,438,672, Size: 392.72 MB\n",
            "\n",
            "External table created: cs145-project-1-475101.cs145_data.payers_ext\n",
            "payers_ext — Rows: 440, Size: 0.07 MB\n",
            "\n",
            "External table created: cs145-project-1-475101.cs145_data.providers_ext\n",
            "providers_ext — Rows: 40,002, Size: 7.23 MB\n"
          ]
        }
      ]
    },
    {
      "cell_type": "markdown",
      "source": [
        "SQL: Show table sizes, row counts"
      ],
      "metadata": {
        "id": "dLFgzTDaI9TG"
      }
    },
    {
      "cell_type": "markdown",
      "source": [
        "## Table Relationships"
      ],
      "metadata": {
        "id": "DB6HqYiOI_Eu"
      }
    },
    {
      "cell_type": "markdown",
      "source": [
        "SQL: Explore keys and joins"
      ],
      "metadata": {
        "id": "QXsespn3JA2P"
      }
    },
    {
      "cell_type": "markdown",
      "source": [
        "## Data Issues\n"
      ],
      "metadata": {
        "id": "B0Ocd4zkJC4_"
      }
    },
    {
      "cell_type": "markdown",
      "source": [
        "SQL: Check for NULLs, duplicates"
      ],
      "metadata": {
        "id": "7cL0HqinJEav"
      }
    },
    {
      "cell_type": "markdown",
      "metadata": {
        "id": "Fc_clta9g3H5"
      },
      "source": [
        "# Section 3: Get Your Feet Wet"
      ]
    },
    {
      "cell_type": "markdown",
      "source": [
        "*DELETE WHEN DONE READING: please write a tiny title and description for each query. Don't forget to add comments!*\n",
        "\n",
        "*DELETE WHEN DONE READING: feel free to add more queries! But keep the format the same :)*\n",
        "\n",
        "*DELETE WHEN DONE READING: In this cell, please specify which two queries you are uploading a debug table. Then underneath those queries, show the debug table. Below is an example:*\n",
        "\n",
        "Debug Tabls for the following queries:\n",
        "* Subquery 1: [your title]\n",
        "* CTE 1: [your title]"
      ],
      "metadata": {
        "id": "pq259gbmJxTT"
      }
    },
    {
      "cell_type": "markdown",
      "source": [
        "## Subqueries"
      ],
      "metadata": {
        "id": "UlJuqhMxJYY4"
      }
    },
    {
      "cell_type": "markdown",
      "source": [
        "2 queries with scoped variables"
      ],
      "metadata": {
        "id": "6_A3w-iuJZMK"
      }
    },
    {
      "cell_type": "markdown",
      "source": [
        "### SubQuery 1:\n"
      ],
      "metadata": {
        "id": "t2QHCN0xJlXJ"
      }
    },
    {
      "cell_type": "markdown",
      "source": [
        "Please copy and paste your debug table image here for this query. Otherwise delete this cell."
      ],
      "metadata": {
        "id": "IImElg_kJvtC"
      }
    },
    {
      "cell_type": "code",
      "source": [
        "# write code here\n",
        "%%bigquery --project $project_id\n",
        "# make sure you have the header above for each SQL cell\n",
        "\n",
        "# here's an example of a SQL query using the NCAA basketball dataset in bigquery-public-data\n",
        "SELECT id, market, name, mascot, mascot_name\n",
        "FROM `bigquery-public-data.ncaa_basketball.mascots`\n",
        "LIMIT 5;"
      ],
      "metadata": {
        "id": "idMaRC4hKs5M",
        "colab": {
          "base_uri": "https://localhost:8080/"
        },
        "outputId": "23b339c5-eb6a-4a39-878d-c17e10e70799"
      },
      "execution_count": 49,
      "outputs": [
        {
          "output_type": "stream",
          "name": "stderr",
          "text": [
            "\n",
            "ERROR:\n",
            " 400 POST https://bigquery.googleapis.com/bigquery/v2/projects/$project_id/jobs?prettyPrint=false: ProjectId must be non-empty\n",
            "\n",
            "Location: None\n",
            "Job ID: af117004-881d-4bd7-9c75-1962e2fded4e\n",
            "\n"
          ]
        }
      ]
    },
    {
      "cell_type": "markdown",
      "source": [
        "### SubQuery 2:\n"
      ],
      "metadata": {
        "id": "pKtqsVuYKdt6"
      }
    },
    {
      "cell_type": "markdown",
      "source": [
        "Please copy and paste your debug table image here for this query. Otherwise delete this cell."
      ],
      "metadata": {
        "id": "uY2ihoGMKzys"
      }
    },
    {
      "cell_type": "code",
      "source": [
        "# write code here\n",
        "%%bigquery --project $project_id\n",
        "# make sure you have the header above for each SQL cell\n",
        "\n",
        "# here's an example of a SQL query using the NCAA basketball dataset in bigquery-public-data\n",
        "SELECT id, market, name, mascot, mascot_name\n",
        "FROM `bigquery-public-data.ncaa_basketball.mascots`\n",
        "LIMIT 5;"
      ],
      "metadata": {
        "id": "tg0XecrrKzys",
        "colab": {
          "base_uri": "https://localhost:8080/"
        },
        "outputId": "7001ea47-8f4b-49b8-f398-3587a9febf23"
      },
      "execution_count": 50,
      "outputs": [
        {
          "output_type": "stream",
          "name": "stderr",
          "text": [
            "\n",
            "ERROR:\n",
            " 400 POST https://bigquery.googleapis.com/bigquery/v2/projects/$project_id/jobs?prettyPrint=false: ProjectId must be non-empty\n",
            "\n",
            "Location: None\n",
            "Job ID: c21c91da-4a66-46cc-9132-43e054825caa\n",
            "\n"
          ]
        }
      ]
    },
    {
      "cell_type": "markdown",
      "source": [
        "## CTEs"
      ],
      "metadata": {
        "id": "p5RyG_5WJa7V"
      }
    },
    {
      "cell_type": "markdown",
      "source": [
        "2 queries with WITH clauses"
      ],
      "metadata": {
        "id": "AXBy4SjMJcs5"
      }
    },
    {
      "cell_type": "markdown",
      "source": [
        "### CTE 1:\n"
      ],
      "metadata": {
        "id": "37FNty6MLEv4"
      }
    },
    {
      "cell_type": "markdown",
      "source": [
        "Please copy and paste your debug table image here for this query. Otherwise delete this cell."
      ],
      "metadata": {
        "id": "Lg7Jcd6rLEv5"
      }
    },
    {
      "cell_type": "code",
      "source": [
        "# write code here\n",
        "%%bigquery --project $project_id\n",
        "# make sure you have the header above for each SQL cell\n",
        "\n",
        "# here's an example of a SQL query using the NCAA basketball dataset in bigquery-public-data\n",
        "SELECT id, market, name, mascot, mascot_name\n",
        "FROM `bigquery-public-data.ncaa_basketball.mascots`\n",
        "LIMIT 5;"
      ],
      "metadata": {
        "id": "FWJKRfiQLEv5",
        "colab": {
          "base_uri": "https://localhost:8080/"
        },
        "outputId": "16daa129-871a-4f59-a6a2-9fd9c11c6596"
      },
      "execution_count": 51,
      "outputs": [
        {
          "output_type": "stream",
          "name": "stderr",
          "text": [
            "\n",
            "ERROR:\n",
            " 400 POST https://bigquery.googleapis.com/bigquery/v2/projects/$project_id/jobs?prettyPrint=false: ProjectId must be non-empty\n",
            "\n",
            "Location: None\n",
            "Job ID: a4cbd25f-30da-48d0-a454-2b3b7e2e76b9\n",
            "\n"
          ]
        }
      ]
    },
    {
      "cell_type": "markdown",
      "source": [
        "### CTE 2:\n"
      ],
      "metadata": {
        "id": "o0_66sToLHtO"
      }
    },
    {
      "cell_type": "markdown",
      "source": [
        "Please copy and paste your debug table image here for this query. Otherwise delete this cell."
      ],
      "metadata": {
        "id": "3qXM7pOCLHtP"
      }
    },
    {
      "cell_type": "code",
      "source": [
        "# write code here\n",
        "%%bigquery --project $project_id\n",
        "# make sure you have the header above for each SQL cell\n",
        "\n",
        "# here's an example of a SQL query using the NCAA basketball dataset in bigquery-public-data\n",
        "SELECT id, market, name, mascot, mascot_name\n",
        "FROM `bigquery-public-data.ncaa_basketball.mascots`\n",
        "LIMIT 5;"
      ],
      "metadata": {
        "id": "vBnPJEkgLHtP",
        "colab": {
          "base_uri": "https://localhost:8080/"
        },
        "outputId": "2f077203-a718-4471-adde-28e5f9ee0fe3"
      },
      "execution_count": 52,
      "outputs": [
        {
          "output_type": "stream",
          "name": "stderr",
          "text": [
            "\n",
            "ERROR:\n",
            " 400 POST https://bigquery.googleapis.com/bigquery/v2/projects/$project_id/jobs?prettyPrint=false: ProjectId must be non-empty\n",
            "\n",
            "Location: None\n",
            "Job ID: 472147aa-3a08-4098-9df5-d41ba0c2bd82\n",
            "\n"
          ]
        }
      ]
    },
    {
      "cell_type": "markdown",
      "source": [
        "## Window Functions"
      ],
      "metadata": {
        "id": "CKwA3QAjJfFz"
      }
    },
    {
      "cell_type": "markdown",
      "source": [
        "3 queries with OVER, including RANK vs ROW_NUMBER. Please note the FAQs!"
      ],
      "metadata": {
        "id": "s7j7SpYTJiI2"
      }
    },
    {
      "cell_type": "markdown",
      "source": [
        "### Window Function 1:\n"
      ],
      "metadata": {
        "id": "i1a-xFQqLL_E"
      }
    },
    {
      "cell_type": "markdown",
      "source": [
        "Please copy and paste your debug table image here for this query. Otherwise delete this cell."
      ],
      "metadata": {
        "id": "vWDDpRdyLL_F"
      }
    },
    {
      "cell_type": "code",
      "source": [
        "# write code here\n",
        "%%bigquery --project $project_id\n",
        "# make sure you have the header above for each SQL cell\n",
        "\n",
        "# here's an example of a SQL query using the NCAA basketball dataset in bigquery-public-data\n",
        "SELECT id, market, name, mascot, mascot_name\n",
        "FROM `bigquery-public-data.ncaa_basketball.mascots`\n",
        "LIMIT 5;"
      ],
      "metadata": {
        "id": "ymzcAAR3LL_F",
        "colab": {
          "base_uri": "https://localhost:8080/"
        },
        "outputId": "e35bb374-6856-4bdb-9d32-eee4edd9c762"
      },
      "execution_count": 53,
      "outputs": [
        {
          "output_type": "stream",
          "name": "stderr",
          "text": [
            "\n",
            "ERROR:\n",
            " 400 POST https://bigquery.googleapis.com/bigquery/v2/projects/$project_id/jobs?prettyPrint=false: ProjectId must be non-empty\n",
            "\n",
            "Location: None\n",
            "Job ID: e85cecf4-e942-4ee0-a568-c69cd1c57436\n",
            "\n"
          ]
        }
      ]
    },
    {
      "cell_type": "markdown",
      "source": [
        "### Window Function 2:\n"
      ],
      "metadata": {
        "id": "lHUepMe5LPqT"
      }
    },
    {
      "cell_type": "markdown",
      "source": [
        "Please copy and paste your debug table image here for this query. Otherwise delete this cell."
      ],
      "metadata": {
        "id": "FwF9tUVLLPqT"
      }
    },
    {
      "cell_type": "code",
      "source": [
        "# write code here\n",
        "%%bigquery --project $project_id\n",
        "# make sure you have the header above for each SQL cell\n",
        "\n",
        "# here's an example of a SQL query using the NCAA basketball dataset in bigquery-public-data\n",
        "SELECT id, market, name, mascot, mascot_name\n",
        "FROM `bigquery-public-data.ncaa_basketball.mascots`\n",
        "LIMIT 5;"
      ],
      "metadata": {
        "id": "p7t96x8gLPqT",
        "colab": {
          "base_uri": "https://localhost:8080/"
        },
        "outputId": "39649ff6-f796-4814-af10-9d8c75838243"
      },
      "execution_count": 54,
      "outputs": [
        {
          "output_type": "stream",
          "name": "stderr",
          "text": [
            "\n",
            "ERROR:\n",
            " 400 POST https://bigquery.googleapis.com/bigquery/v2/projects/$project_id/jobs?prettyPrint=false: ProjectId must be non-empty\n",
            "\n",
            "Location: None\n",
            "Job ID: be466331-d862-4f73-a96d-45990bf56335\n",
            "\n"
          ]
        }
      ]
    },
    {
      "cell_type": "markdown",
      "source": [
        "### Window Function 3:\n"
      ],
      "metadata": {
        "id": "tBxvlIx9LP4s"
      }
    },
    {
      "cell_type": "markdown",
      "source": [
        "Please copy and paste your debug table image here for this query. Otherwise delete this cell."
      ],
      "metadata": {
        "id": "gKvdD5eQLP4s"
      }
    },
    {
      "cell_type": "code",
      "source": [
        "# write code here\n",
        "%%bigquery --project $project_id\n",
        "# make sure you have the header above for each SQL cell\n",
        "\n",
        "# here's an example of a SQL query using the NCAA basketball dataset in bigquery-public-data\n",
        "SELECT id, market, name, mascot, mascot_name\n",
        "FROM `bigquery-public-data.ncaa_basketball.mascots`\n",
        "LIMIT 5;"
      ],
      "metadata": {
        "id": "F_0byzF0LP4t",
        "colab": {
          "base_uri": "https://localhost:8080/"
        },
        "outputId": "84f0a61c-cf84-4352-f746-6f6c9e3fffe0"
      },
      "execution_count": 55,
      "outputs": [
        {
          "output_type": "stream",
          "name": "stderr",
          "text": [
            "\n",
            "ERROR:\n",
            " 400 POST https://bigquery.googleapis.com/bigquery/v2/projects/$project_id/jobs?prettyPrint=false: ProjectId must be non-empty\n",
            "\n",
            "Location: None\n",
            "Job ID: ba63f03a-059c-4636-a66e-3c6200d6d132\n",
            "\n"
          ]
        }
      ]
    },
    {
      "cell_type": "markdown",
      "source": [
        "# Section 4: Exploring Central Questions"
      ],
      "metadata": {
        "id": "_IeIyuMsLVab"
      }
    },
    {
      "cell_type": "markdown",
      "source": [
        "*[Please delete when done reading]Friendly reminder: Do not forget comments!!!*"
      ],
      "metadata": {
        "id": "Ib7AdxqCLmfU"
      }
    },
    {
      "cell_type": "markdown",
      "source": [
        "## Question 1: [Your question]"
      ],
      "metadata": {
        "id": "v1ZFxJrvLX-H"
      }
    },
    {
      "cell_type": "markdown",
      "source": [
        "sql query and analysis"
      ],
      "metadata": {
        "id": "0WQbM8pzLZMF"
      }
    },
    {
      "cell_type": "markdown",
      "source": [
        "## Question 2: [Your question]"
      ],
      "metadata": {
        "id": "rL-cjyFqLfek"
      }
    },
    {
      "cell_type": "markdown",
      "source": [
        "sql query and analysis"
      ],
      "metadata": {
        "id": "VF9FPndpLfek"
      }
    },
    {
      "cell_type": "markdown",
      "source": [
        "## Question 3: [Your question]"
      ],
      "metadata": {
        "id": "5fGm-Uo4LfzH"
      }
    },
    {
      "cell_type": "markdown",
      "source": [
        "sql query and analysis"
      ],
      "metadata": {
        "id": "hWkKCvdmLfzH"
      }
    },
    {
      "cell_type": "markdown",
      "metadata": {
        "id": "Dg7Lhqi_yDcy"
      },
      "source": [
        "# Section 5: Takeaways"
      ]
    },
    {
      "cell_type": "markdown",
      "metadata": {
        "id": "YmVpTigjyHMY"
      },
      "source": [
        "---\n",
        "\n",
        "*TODO: Final conclusions based on the rest of your project*\n",
        "\n",
        "---"
      ]
    }
  ],
  "metadata": {
    "colab": {
      "provenance": [],
      "collapsed_sections": [
        "t2QHCN0xJlXJ",
        "pKtqsVuYKdt6",
        "37FNty6MLEv4",
        "o0_66sToLHtO",
        "i1a-xFQqLL_E",
        "rL-cjyFqLfek",
        "5fGm-Uo4LfzH"
      ],
      "include_colab_link": true
    },
    "kernelspec": {
      "display_name": "Python 3",
      "name": "python3"
    }
  },
  "nbformat": 4,
  "nbformat_minor": 0
}