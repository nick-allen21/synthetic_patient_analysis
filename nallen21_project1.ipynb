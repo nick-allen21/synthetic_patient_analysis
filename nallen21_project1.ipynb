{
  "cells": [
    {
      "cell_type": "markdown",
      "metadata": {
        "id": "view-in-github",
        "colab_type": "text"
      },
      "source": [
        "<a href=\"https://colab.research.google.com/github/nick-allen21/synthetic_patient_analysis/blob/main/nallen21_project1.ipynb\" target=\"_parent\"><img src=\"https://colab.research.google.com/assets/colab-badge.svg\" alt=\"Open In Colab\"/></a>"
      ]
    },
    {
      "cell_type": "markdown",
      "metadata": {
        "id": "U5JUMgc_gbHp"
      },
      "source": [
        "# CS145: Project 1 | Project Name"
      ]
    },
    {
      "cell_type": "markdown",
      "metadata": {
        "id": "EHDiv4GrhofN"
      },
      "source": [
        "## Author\n",
        "* *Nicholas Allen, nallen21*"
      ]
    },
    {
      "cell_type": "markdown",
      "metadata": {
        "id": "gMNQWFvSgepX"
      },
      "source": [
        "# Section 1: Project Overview"
      ]
    },
    {
      "cell_type": "markdown",
      "metadata": {
        "id": "lX1Jkglwg1SI"
      },
      "source": [
        "---\n",
        "I am using synthetic patient data to create actionable incomes for patients. These questions will give htem insight to biggest health risk thier specific demographic and state, as well as what providers / payers they should pursue to help mitigate these risks.\n",
        "\n",
        "1.   Identify the top 3 chronic conditions (e.g., hypertension, diabetes) for each age, gender group\n",
        "2.   Compare the rate of encounters/disease occurence for high, middle, low income groups\n",
        "3. Determine the provider, payer combination for each state that has the longest encounter time with their patients\n",
        "---\n"
      ]
    },
    {
      "cell_type": "markdown",
      "metadata": {
        "id": "r_GvgTCcgv6N"
      },
      "source": [
        "# Section 2: Dataset Analysis"
      ]
    },
    {
      "cell_type": "markdown",
      "source": [
        "###2.1) Init Big Query Resources by connecting to bucket and creating tables"
      ],
      "metadata": {
        "id": "qYoKaRr9o1ud"
      }
    },
    {
      "cell_type": "code",
      "source": [
        "from google.colab import auth\n",
        "auth.authenticate_user()\n",
        "\n",
        "from google.cloud import bigquery, storage\n",
        "\n",
        "PROJECT_ID = \"cs145-project-1-475101\"\n",
        "BUCKET = \"nallen21_bucket_cs145\"\n",
        "DATASET_ID = \"cs145_data\"\n",
        "\n",
        "bq_client = bigquery.Client(project=PROJECT_ID)\n",
        "storage_client = storage.Client(project=PROJECT_ID)\n",
        "\n",
        "# Create dataset if not already created\n",
        "dataset_ref = bigquery.Dataset(f\"{PROJECT_ID}.{DATASET_ID}\")\n",
        "dataset_ref.location = \"US\"\n",
        "bq_client.create_dataset(dataset_ref, exists_ok=True)"
      ],
      "metadata": {
        "colab": {
          "base_uri": "https://localhost:8080/"
        },
        "id": "h5fGl6nVcOF4",
        "outputId": "22569943-4b6f-4d5f-e20e-be129ee8df11"
      },
      "execution_count": 36,
      "outputs": [
        {
          "output_type": "execute_result",
          "data": {
            "text/plain": [
              "Dataset(DatasetReference('cs145-project-1-475101', 'cs145_data'))"
            ]
          },
          "metadata": {},
          "execution_count": 36
        }
      ]
    },
    {
      "cell_type": "code",
      "source": [
        "table_ids = [\n",
        "  \"conditions\",\n",
        "  \"encounters\",\n",
        "  \"medications\",\n",
        "  \"observations\",\n",
        "  \"patients\",\n",
        "  \"payer_transitions\",\n",
        "  \"payers\",\n",
        "  \"providers\"\n",
        "]\n",
        "for table_name in table_ids:\n",
        "\n",
        "  # Table name in BigQuery\n",
        "  table_id = f\"{PROJECT_ID}.{DATASET_ID}.{table_name}_ext\"\n",
        "\n",
        "  # GCS path for patients.csv\n",
        "  source_uris = [f\"gs://{BUCKET}/{table_name}.csv\"]\n",
        "\n",
        "  # Define external table configuration\n",
        "  external_config = bigquery.ExternalConfig(\"CSV\")\n",
        "  external_config.source_uris = source_uris\n",
        "  external_config.autodetect = True\n",
        "  external_config.options.skip_leading_rows = 1  # skip CSV headers\n",
        "\n",
        "  # Create table object and attach configuration\n",
        "  table = bigquery.Table(table_id)\n",
        "  table.external_data_configuration = external_config\n",
        "\n",
        "  # Create or overwrite the table\n",
        "  bq_client.create_table(table, exists_ok=True)\n",
        "  print(\"External table successfully created:\", table_id, \"✅\")\n"
      ],
      "metadata": {
        "colab": {
          "base_uri": "https://localhost:8080/"
        },
        "id": "ivUkMcvHcOUX",
        "outputId": "21551adc-46a5-4087-a3d8-06d5b09a4e80"
      },
      "execution_count": 43,
      "outputs": [
        {
          "output_type": "stream",
          "name": "stdout",
          "text": [
            "External table successfully created: cs145-project-1-475101.cs145_data.conditions_ext ✅\n",
            "External table successfully created: cs145-project-1-475101.cs145_data.encounters_ext ✅\n",
            "External table successfully created: cs145-project-1-475101.cs145_data.medications_ext ✅\n",
            "External table successfully created: cs145-project-1-475101.cs145_data.observations_ext ✅\n",
            "External table successfully created: cs145-project-1-475101.cs145_data.patients_ext ✅\n",
            "External table successfully created: cs145-project-1-475101.cs145_data.payer_transitions_ext ✅\n",
            "External table successfully created: cs145-project-1-475101.cs145_data.payers_ext ✅\n",
            "External table successfully created: cs145-project-1-475101.cs145_data.providers_ext ✅\n"
          ]
        }
      ]
    },
    {
      "cell_type": "code",
      "source": [
        "import subprocess\n",
        "from google.cloud import bigquery\n",
        "\n",
        "table_ids = [\n",
        "    \"conditions\",\n",
        "    \"encounters\",\n",
        "    \"medications\",\n",
        "    \"observations\",\n",
        "    \"patients\",\n",
        "    \"payer_transitions\",\n",
        "    \"payers\",\n",
        "    \"providers\",\n",
        "]\n",
        "\n",
        "for table_name in table_ids:\n",
        "    table_id = f\"{PROJECT_ID}.{DATASET_ID}.{table_name}_ext\"\n",
        "    gcs_path = f\"gs://{BUCKET}/{table_name}.csv\"\n",
        "\n",
        "    # ---- Create external table ----\n",
        "    external_config = bigquery.ExternalConfig(\"CSV\")\n",
        "    external_config.source_uris = [gcs_path]\n",
        "    external_config.autodetect = True\n",
        "    external_config.options.skip_leading_rows = 1\n",
        "\n",
        "    table = bigquery.Table(table_id)\n",
        "    table.external_data_configuration = external_config\n",
        "\n",
        "    bq_client.create_table(table, exists_ok=True)\n",
        "    print(f\"\\nExternal table created: {table_id}\")\n",
        "\n",
        "    # ---- Get row count ----\n",
        "    row_query = f\"SELECT COUNT(*) AS row_count FROM `{table_id}`\"\n",
        "    row_count = bq_client.query(row_query).to_dataframe().iloc[0, 0]\n",
        "\n",
        "    # ---- Get GCS size ----\n",
        "    # ---- Get GCS size (with units) ----\n",
        "    # Use -s (bytes) so we can control the units\n",
        "    raw = subprocess.run([\"gsutil\", \"du\", \"-s\", gcs_path], capture_output=True, text=True).stdout.strip()\n",
        "\n",
        "    if raw:\n",
        "        bytes_size = int(raw.split()[0])\n",
        "        mb = bytes_size / (1024 * 1024)\n",
        "        # choose MB or GB for nicer display\n",
        "        gcs_size = f\"{mb:.2f} MB\" if mb < 1024 else f\"{mb/1024:.2f} GB\"\n",
        "    else:\n",
        "        gcs_size = \"N/A\"\n",
        "\n",
        "\n",
        "    print(f\"{table_name}_ext — Rows: {row_count:,}, Size: {gcs_size}\")\n"
      ],
      "metadata": {
        "colab": {
          "base_uri": "https://localhost:8080/"
        },
        "id": "TImXwkAH0u-b",
        "outputId": "c9dfb757-8f6d-4884-92d7-c212064911ee"
      },
      "execution_count": 45,
      "outputs": [
        {
          "output_type": "stream",
          "name": "stdout",
          "text": [
            "\n",
            "External table created: cs145-project-1-475101.cs145_data.conditions_ext\n",
            "📊 conditions_ext — Rows: 2,522,756, Size: 379.36 MB\n",
            "\n",
            "External table created: cs145-project-1-475101.cs145_data.encounters_ext\n",
            "📊 encounters_ext — Rows: 4,850,448, Size: 1.51 GB\n",
            "\n",
            "External table created: cs145-project-1-475101.cs145_data.medications_ext\n",
            "📊 medications_ext — Rows: 5,992,699, Size: 1.47 GB\n",
            "\n",
            "External table created: cs145-project-1-475101.cs145_data.observations_ext\n",
            "📊 observations_ext — Rows: 48,847,506, Size: 8.17 GB\n",
            "\n",
            "External table created: cs145-project-1-475101.cs145_data.patients_ext\n",
            "📊 patients_ext — Rows: 61,208, Size: 17.28 MB\n",
            "\n",
            "External table created: cs145-project-1-475101.cs145_data.payer_transitions_ext\n",
            "📊 payer_transitions_ext — Rows: 2,438,672, Size: 392.72 MB\n",
            "\n",
            "External table created: cs145-project-1-475101.cs145_data.payers_ext\n",
            "📊 payers_ext — Rows: 440, Size: 0.07 MB\n",
            "\n",
            "External table created: cs145-project-1-475101.cs145_data.providers_ext\n",
            "📊 providers_ext — Rows: 40,002, Size: 7.23 MB\n"
          ]
        }
      ]
    },
    {
      "cell_type": "markdown",
      "source": [
        "### 2.2) Detailed Overview\n"
      ],
      "metadata": {
        "id": "vqnK-W45I5lr"
      }
    },
    {
      "cell_type": "code",
      "source": [
        "\n"
      ],
      "metadata": {
        "colab": {
          "base_uri": "https://localhost:8080/",
          "height": 426
        },
        "id": "jtRdB-7fcOif",
        "outputId": "a2b6d4ae-6506-4ebd-e48e-746a58642a1d"
      },
      "execution_count": 42,
      "outputs": [
        {
          "output_type": "error",
          "ename": "NotFound",
          "evalue": "404 Not found: Table cs145-project-1-475101:cs145_data.patient_ext was not found in location US; reason: notFound, message: Not found: Table cs145-project-1-475101:cs145_data.patient_ext was not found in location US\n\nLocation: US\nJob ID: b7d742c2-2256-4c65-a989-14aea0ae0791\n",
          "traceback": [
            "\u001b[0;31m---------------------------------------------------------------------------\u001b[0m",
            "\u001b[0;31mNotFound\u001b[0m                                  Traceback (most recent call last)",
            "\u001b[0;32m/tmp/ipython-input-1701183274.py\u001b[0m in \u001b[0;36m<cell line: 0>\u001b[0;34m()\u001b[0m\n\u001b[1;32m      7\u001b[0m \u001b[0mORDER\u001b[0m \u001b[0mBY\u001b[0m \u001b[0mtable_size_mb\u001b[0m \u001b[0mDESC\u001b[0m\u001b[0;34m;\u001b[0m\u001b[0;34m\u001b[0m\u001b[0;34m\u001b[0m\u001b[0m\n\u001b[1;32m      8\u001b[0m \"\"\"\n\u001b[0;32m----> 9\u001b[0;31m \u001b[0mpatient_size_df\u001b[0m \u001b[0;34m=\u001b[0m \u001b[0mbq_client\u001b[0m\u001b[0;34m.\u001b[0m\u001b[0mquery\u001b[0m\u001b[0;34m(\u001b[0m\u001b[0mpatient_size_query\u001b[0m\u001b[0;34m)\u001b[0m\u001b[0;34m.\u001b[0m\u001b[0mto_dataframe\u001b[0m\u001b[0;34m(\u001b[0m\u001b[0;34m)\u001b[0m\u001b[0;34m\u001b[0m\u001b[0;34m\u001b[0m\u001b[0m\n\u001b[0m\u001b[1;32m     10\u001b[0m \u001b[0mdisplay\u001b[0m\u001b[0;34m(\u001b[0m\u001b[0mpatient_size_df\u001b[0m\u001b[0;34m)\u001b[0m\u001b[0;34m\u001b[0m\u001b[0;34m\u001b[0m\u001b[0m\n",
            "\u001b[0;32m/usr/local/lib/python3.12/dist-packages/google/cloud/bigquery/job/query.py\u001b[0m in \u001b[0;36mto_dataframe\u001b[0;34m(self, bqstorage_client, dtypes, progress_bar_type, create_bqstorage_client, max_results, geography_as_object, bool_dtype, int_dtype, float_dtype, string_dtype, date_dtype, datetime_dtype, time_dtype, timestamp_dtype, range_date_dtype, range_datetime_dtype, range_timestamp_dtype)\u001b[0m\n\u001b[1;32m   2157\u001b[0m                 \u001b[0;34m:\u001b[0m\u001b[0mmod\u001b[0m\u001b[0;34m:\u001b[0m\u001b[0;31m`\u001b[0m\u001b[0mshapely\u001b[0m\u001b[0;31m`\u001b[0m \u001b[0mlibrary\u001b[0m \u001b[0mcannot\u001b[0m \u001b[0mbe\u001b[0m \u001b[0mimported\u001b[0m\u001b[0;34m.\u001b[0m\u001b[0;34m\u001b[0m\u001b[0;34m\u001b[0m\u001b[0m\n\u001b[1;32m   2158\u001b[0m         \"\"\"\n\u001b[0;32m-> 2159\u001b[0;31m         \u001b[0mquery_result\u001b[0m \u001b[0;34m=\u001b[0m \u001b[0mwait_for_query\u001b[0m\u001b[0;34m(\u001b[0m\u001b[0mself\u001b[0m\u001b[0;34m,\u001b[0m \u001b[0mprogress_bar_type\u001b[0m\u001b[0;34m,\u001b[0m \u001b[0mmax_results\u001b[0m\u001b[0;34m=\u001b[0m\u001b[0mmax_results\u001b[0m\u001b[0;34m)\u001b[0m\u001b[0;34m\u001b[0m\u001b[0;34m\u001b[0m\u001b[0m\n\u001b[0m\u001b[1;32m   2160\u001b[0m         return query_result.to_dataframe(\n\u001b[1;32m   2161\u001b[0m             \u001b[0mbqstorage_client\u001b[0m\u001b[0;34m=\u001b[0m\u001b[0mbqstorage_client\u001b[0m\u001b[0;34m,\u001b[0m\u001b[0;34m\u001b[0m\u001b[0;34m\u001b[0m\u001b[0m\n",
            "\u001b[0;32m/usr/local/lib/python3.12/dist-packages/google/cloud/bigquery/_tqdm_helpers.py\u001b[0m in \u001b[0;36mwait_for_query\u001b[0;34m(query_job, progress_bar_type, max_results)\u001b[0m\n\u001b[1;32m    105\u001b[0m     )\n\u001b[1;32m    106\u001b[0m     \u001b[0;32mif\u001b[0m \u001b[0mprogress_bar\u001b[0m \u001b[0;32mis\u001b[0m \u001b[0;32mNone\u001b[0m\u001b[0;34m:\u001b[0m\u001b[0;34m\u001b[0m\u001b[0;34m\u001b[0m\u001b[0m\n\u001b[0;32m--> 107\u001b[0;31m         \u001b[0;32mreturn\u001b[0m \u001b[0mquery_job\u001b[0m\u001b[0;34m.\u001b[0m\u001b[0mresult\u001b[0m\u001b[0;34m(\u001b[0m\u001b[0mmax_results\u001b[0m\u001b[0;34m=\u001b[0m\u001b[0mmax_results\u001b[0m\u001b[0;34m)\u001b[0m\u001b[0;34m\u001b[0m\u001b[0;34m\u001b[0m\u001b[0m\n\u001b[0m\u001b[1;32m    108\u001b[0m \u001b[0;34m\u001b[0m\u001b[0m\n\u001b[1;32m    109\u001b[0m     \u001b[0mi\u001b[0m \u001b[0;34m=\u001b[0m \u001b[0;36m0\u001b[0m\u001b[0;34m\u001b[0m\u001b[0;34m\u001b[0m\u001b[0m\n",
            "\u001b[0;32m/usr/local/lib/python3.12/dist-packages/google/cloud/bigquery/job/query.py\u001b[0m in \u001b[0;36mresult\u001b[0;34m(self, page_size, max_results, retry, timeout, start_index, job_retry)\u001b[0m\n\u001b[1;32m   1771\u001b[0m                 \u001b[0;31m# Since is_job_done() calls jobs.getQueryResults, which is a\u001b[0m\u001b[0;34m\u001b[0m\u001b[0;34m\u001b[0m\u001b[0m\n\u001b[1;32m   1772\u001b[0m                 \u001b[0;31m# long-running API, don't delay the next request at all.\u001b[0m\u001b[0;34m\u001b[0m\u001b[0;34m\u001b[0m\u001b[0m\n\u001b[0;32m-> 1773\u001b[0;31m                 \u001b[0;32mwhile\u001b[0m \u001b[0;32mnot\u001b[0m \u001b[0mis_job_done\u001b[0m\u001b[0;34m(\u001b[0m\u001b[0;34m)\u001b[0m\u001b[0;34m:\u001b[0m\u001b[0;34m\u001b[0m\u001b[0;34m\u001b[0m\u001b[0m\n\u001b[0m\u001b[1;32m   1774\u001b[0m                     \u001b[0;32mpass\u001b[0m\u001b[0;34m\u001b[0m\u001b[0;34m\u001b[0m\u001b[0m\n\u001b[1;32m   1775\u001b[0m             \u001b[0;32melse\u001b[0m\u001b[0;34m:\u001b[0m\u001b[0;34m\u001b[0m\u001b[0;34m\u001b[0m\u001b[0m\n",
            "\u001b[0;32m/usr/local/lib/python3.12/dist-packages/google/api_core/retry/retry_unary.py\u001b[0m in \u001b[0;36mretry_wrapped_func\u001b[0;34m(*args, **kwargs)\u001b[0m\n\u001b[1;32m    292\u001b[0m                 \u001b[0mself\u001b[0m\u001b[0;34m.\u001b[0m\u001b[0m_initial\u001b[0m\u001b[0;34m,\u001b[0m \u001b[0mself\u001b[0m\u001b[0;34m.\u001b[0m\u001b[0m_maximum\u001b[0m\u001b[0;34m,\u001b[0m \u001b[0mmultiplier\u001b[0m\u001b[0;34m=\u001b[0m\u001b[0mself\u001b[0m\u001b[0;34m.\u001b[0m\u001b[0m_multiplier\u001b[0m\u001b[0;34m\u001b[0m\u001b[0;34m\u001b[0m\u001b[0m\n\u001b[1;32m    293\u001b[0m             )\n\u001b[0;32m--> 294\u001b[0;31m             return retry_target(\n\u001b[0m\u001b[1;32m    295\u001b[0m                 \u001b[0mtarget\u001b[0m\u001b[0;34m,\u001b[0m\u001b[0;34m\u001b[0m\u001b[0;34m\u001b[0m\u001b[0m\n\u001b[1;32m    296\u001b[0m                 \u001b[0mself\u001b[0m\u001b[0;34m.\u001b[0m\u001b[0m_predicate\u001b[0m\u001b[0;34m,\u001b[0m\u001b[0;34m\u001b[0m\u001b[0;34m\u001b[0m\u001b[0m\n",
            "\u001b[0;32m/usr/local/lib/python3.12/dist-packages/google/api_core/retry/retry_unary.py\u001b[0m in \u001b[0;36mretry_target\u001b[0;34m(target, predicate, sleep_generator, timeout, on_error, exception_factory, **kwargs)\u001b[0m\n\u001b[1;32m    154\u001b[0m         \u001b[0;32mexcept\u001b[0m \u001b[0mException\u001b[0m \u001b[0;32mas\u001b[0m \u001b[0mexc\u001b[0m\u001b[0;34m:\u001b[0m\u001b[0;34m\u001b[0m\u001b[0;34m\u001b[0m\u001b[0m\n\u001b[1;32m    155\u001b[0m             \u001b[0;31m# defer to shared logic for handling errors\u001b[0m\u001b[0;34m\u001b[0m\u001b[0;34m\u001b[0m\u001b[0m\n\u001b[0;32m--> 156\u001b[0;31m             next_sleep = _retry_error_helper(\n\u001b[0m\u001b[1;32m    157\u001b[0m                 \u001b[0mexc\u001b[0m\u001b[0;34m,\u001b[0m\u001b[0;34m\u001b[0m\u001b[0;34m\u001b[0m\u001b[0m\n\u001b[1;32m    158\u001b[0m                 \u001b[0mdeadline\u001b[0m\u001b[0;34m,\u001b[0m\u001b[0;34m\u001b[0m\u001b[0;34m\u001b[0m\u001b[0m\n",
            "\u001b[0;32m/usr/local/lib/python3.12/dist-packages/google/api_core/retry/retry_base.py\u001b[0m in \u001b[0;36m_retry_error_helper\u001b[0;34m(exc, deadline, sleep_iterator, error_list, predicate_fn, on_error_fn, exc_factory_fn, original_timeout)\u001b[0m\n\u001b[1;32m    212\u001b[0m             \u001b[0moriginal_timeout\u001b[0m\u001b[0;34m,\u001b[0m\u001b[0;34m\u001b[0m\u001b[0;34m\u001b[0m\u001b[0m\n\u001b[1;32m    213\u001b[0m         )\n\u001b[0;32m--> 214\u001b[0;31m         \u001b[0;32mraise\u001b[0m \u001b[0mfinal_exc\u001b[0m \u001b[0;32mfrom\u001b[0m \u001b[0msource_exc\u001b[0m\u001b[0;34m\u001b[0m\u001b[0;34m\u001b[0m\u001b[0m\n\u001b[0m\u001b[1;32m    215\u001b[0m     \u001b[0;32mif\u001b[0m \u001b[0mon_error_fn\u001b[0m \u001b[0;32mis\u001b[0m \u001b[0;32mnot\u001b[0m \u001b[0;32mNone\u001b[0m\u001b[0;34m:\u001b[0m\u001b[0;34m\u001b[0m\u001b[0;34m\u001b[0m\u001b[0m\n\u001b[1;32m    216\u001b[0m         \u001b[0mon_error_fn\u001b[0m\u001b[0;34m(\u001b[0m\u001b[0mexc\u001b[0m\u001b[0;34m)\u001b[0m\u001b[0;34m\u001b[0m\u001b[0;34m\u001b[0m\u001b[0m\n",
            "\u001b[0;32m/usr/local/lib/python3.12/dist-packages/google/api_core/retry/retry_unary.py\u001b[0m in \u001b[0;36mretry_target\u001b[0;34m(target, predicate, sleep_generator, timeout, on_error, exception_factory, **kwargs)\u001b[0m\n\u001b[1;32m    145\u001b[0m     \u001b[0;32mwhile\u001b[0m \u001b[0;32mTrue\u001b[0m\u001b[0;34m:\u001b[0m\u001b[0;34m\u001b[0m\u001b[0;34m\u001b[0m\u001b[0m\n\u001b[1;32m    146\u001b[0m         \u001b[0;32mtry\u001b[0m\u001b[0;34m:\u001b[0m\u001b[0;34m\u001b[0m\u001b[0;34m\u001b[0m\u001b[0m\n\u001b[0;32m--> 147\u001b[0;31m             \u001b[0mresult\u001b[0m \u001b[0;34m=\u001b[0m \u001b[0mtarget\u001b[0m\u001b[0;34m(\u001b[0m\u001b[0;34m)\u001b[0m\u001b[0;34m\u001b[0m\u001b[0;34m\u001b[0m\u001b[0m\n\u001b[0m\u001b[1;32m    148\u001b[0m             \u001b[0;32mif\u001b[0m \u001b[0minspect\u001b[0m\u001b[0;34m.\u001b[0m\u001b[0misawaitable\u001b[0m\u001b[0;34m(\u001b[0m\u001b[0mresult\u001b[0m\u001b[0;34m)\u001b[0m\u001b[0;34m:\u001b[0m\u001b[0;34m\u001b[0m\u001b[0;34m\u001b[0m\u001b[0m\n\u001b[1;32m    149\u001b[0m                 \u001b[0mwarnings\u001b[0m\u001b[0;34m.\u001b[0m\u001b[0mwarn\u001b[0m\u001b[0;34m(\u001b[0m\u001b[0m_ASYNC_RETRY_WARNING\u001b[0m\u001b[0;34m)\u001b[0m\u001b[0;34m\u001b[0m\u001b[0;34m\u001b[0m\u001b[0m\n",
            "\u001b[0;32m/usr/local/lib/python3.12/dist-packages/google/cloud/bigquery/job/query.py\u001b[0m in \u001b[0;36mis_job_done\u001b[0;34m()\u001b[0m\n\u001b[1;32m   1720\u001b[0m                         \u001b[0;31m# `job_retry` predicate.\u001b[0m\u001b[0;34m\u001b[0m\u001b[0;34m\u001b[0m\u001b[0m\n\u001b[1;32m   1721\u001b[0m                         \u001b[0mrestart_query_job\u001b[0m \u001b[0;34m=\u001b[0m \u001b[0;32mTrue\u001b[0m\u001b[0;34m\u001b[0m\u001b[0;34m\u001b[0m\u001b[0m\n\u001b[0;32m-> 1722\u001b[0;31m                         \u001b[0;32mraise\u001b[0m \u001b[0mjob_failed_exception\u001b[0m\u001b[0;34m\u001b[0m\u001b[0;34m\u001b[0m\u001b[0m\n\u001b[0m\u001b[1;32m   1723\u001b[0m                     \u001b[0;32melse\u001b[0m\u001b[0;34m:\u001b[0m\u001b[0;34m\u001b[0m\u001b[0;34m\u001b[0m\u001b[0m\n\u001b[1;32m   1724\u001b[0m                         \u001b[0;31m# Make sure that the _query_results are cached so we\u001b[0m\u001b[0;34m\u001b[0m\u001b[0;34m\u001b[0m\u001b[0m\n",
            "\u001b[0;31mNotFound\u001b[0m: 404 Not found: Table cs145-project-1-475101:cs145_data.patient_ext was not found in location US; reason: notFound, message: Not found: Table cs145-project-1-475101:cs145_data.patient_ext was not found in location US\n\nLocation: US\nJob ID: b7d742c2-2256-4c65-a989-14aea0ae0791\n"
          ]
        }
      ]
    },
    {
      "cell_type": "markdown",
      "source": [
        "SQL: Show table sizes, row counts"
      ],
      "metadata": {
        "id": "dLFgzTDaI9TG"
      }
    },
    {
      "cell_type": "markdown",
      "source": [
        "## Table Relationships"
      ],
      "metadata": {
        "id": "DB6HqYiOI_Eu"
      }
    },
    {
      "cell_type": "markdown",
      "source": [
        "SQL: Explore keys and joins"
      ],
      "metadata": {
        "id": "QXsespn3JA2P"
      }
    },
    {
      "cell_type": "markdown",
      "source": [
        "## Data Issues\n"
      ],
      "metadata": {
        "id": "B0Ocd4zkJC4_"
      }
    },
    {
      "cell_type": "markdown",
      "source": [
        "SQL: Check for NULLs, duplicates"
      ],
      "metadata": {
        "id": "7cL0HqinJEav"
      }
    },
    {
      "cell_type": "markdown",
      "metadata": {
        "id": "Fc_clta9g3H5"
      },
      "source": [
        "# Section 3: Get Your Feet Wet"
      ]
    },
    {
      "cell_type": "markdown",
      "source": [
        "*DELETE WHEN DONE READING: please write a tiny title and description for each query. Don't forget to add comments!*\n",
        "\n",
        "*DELETE WHEN DONE READING: feel free to add more queries! But keep the format the same :)*\n",
        "\n",
        "*DELETE WHEN DONE READING: In this cell, please specify which two queries you are uploading a debug table. Then underneath those queries, show the debug table. Below is an example:*\n",
        "\n",
        "Debug Tabls for the following queries:\n",
        "* Subquery 1: [your title]\n",
        "* CTE 1: [your title]"
      ],
      "metadata": {
        "id": "pq259gbmJxTT"
      }
    },
    {
      "cell_type": "markdown",
      "source": [
        "## Subqueries"
      ],
      "metadata": {
        "id": "UlJuqhMxJYY4"
      }
    },
    {
      "cell_type": "markdown",
      "source": [
        "2 queries with scoped variables"
      ],
      "metadata": {
        "id": "6_A3w-iuJZMK"
      }
    },
    {
      "cell_type": "markdown",
      "source": [
        "### SubQuery 1:\n"
      ],
      "metadata": {
        "id": "t2QHCN0xJlXJ"
      }
    },
    {
      "cell_type": "markdown",
      "source": [
        "Please copy and paste your debug table image here for this query. Otherwise delete this cell."
      ],
      "metadata": {
        "id": "IImElg_kJvtC"
      }
    },
    {
      "cell_type": "code",
      "source": [
        "# write code here\n",
        "%%bigquery --project $project_id\n",
        "# make sure you have the header above for each SQL cell\n",
        "\n",
        "# here's an example of a SQL query using the NCAA basketball dataset in bigquery-public-data\n",
        "SELECT id, market, name, mascot, mascot_name\n",
        "FROM `bigquery-public-data.ncaa_basketball.mascots`\n",
        "LIMIT 5;"
      ],
      "metadata": {
        "id": "idMaRC4hKs5M"
      },
      "execution_count": null,
      "outputs": []
    },
    {
      "cell_type": "markdown",
      "source": [
        "### SubQuery 2:\n"
      ],
      "metadata": {
        "id": "pKtqsVuYKdt6"
      }
    },
    {
      "cell_type": "markdown",
      "source": [
        "Please copy and paste your debug table image here for this query. Otherwise delete this cell."
      ],
      "metadata": {
        "id": "uY2ihoGMKzys"
      }
    },
    {
      "cell_type": "code",
      "source": [
        "# write code here\n",
        "%%bigquery --project $project_id\n",
        "# make sure you have the header above for each SQL cell\n",
        "\n",
        "# here's an example of a SQL query using the NCAA basketball dataset in bigquery-public-data\n",
        "SELECT id, market, name, mascot, mascot_name\n",
        "FROM `bigquery-public-data.ncaa_basketball.mascots`\n",
        "LIMIT 5;"
      ],
      "metadata": {
        "id": "tg0XecrrKzys"
      },
      "execution_count": null,
      "outputs": []
    },
    {
      "cell_type": "markdown",
      "source": [
        "## CTEs"
      ],
      "metadata": {
        "id": "p5RyG_5WJa7V"
      }
    },
    {
      "cell_type": "markdown",
      "source": [
        "2 queries with WITH clauses"
      ],
      "metadata": {
        "id": "AXBy4SjMJcs5"
      }
    },
    {
      "cell_type": "markdown",
      "source": [
        "### CTE 1:\n"
      ],
      "metadata": {
        "id": "37FNty6MLEv4"
      }
    },
    {
      "cell_type": "markdown",
      "source": [
        "Please copy and paste your debug table image here for this query. Otherwise delete this cell."
      ],
      "metadata": {
        "id": "Lg7Jcd6rLEv5"
      }
    },
    {
      "cell_type": "code",
      "source": [
        "# write code here\n",
        "%%bigquery --project $project_id\n",
        "# make sure you have the header above for each SQL cell\n",
        "\n",
        "# here's an example of a SQL query using the NCAA basketball dataset in bigquery-public-data\n",
        "SELECT id, market, name, mascot, mascot_name\n",
        "FROM `bigquery-public-data.ncaa_basketball.mascots`\n",
        "LIMIT 5;"
      ],
      "metadata": {
        "id": "FWJKRfiQLEv5"
      },
      "execution_count": null,
      "outputs": []
    },
    {
      "cell_type": "markdown",
      "source": [
        "### CTE 2:\n"
      ],
      "metadata": {
        "id": "o0_66sToLHtO"
      }
    },
    {
      "cell_type": "markdown",
      "source": [
        "Please copy and paste your debug table image here for this query. Otherwise delete this cell."
      ],
      "metadata": {
        "id": "3qXM7pOCLHtP"
      }
    },
    {
      "cell_type": "code",
      "source": [
        "# write code here\n",
        "%%bigquery --project $project_id\n",
        "# make sure you have the header above for each SQL cell\n",
        "\n",
        "# here's an example of a SQL query using the NCAA basketball dataset in bigquery-public-data\n",
        "SELECT id, market, name, mascot, mascot_name\n",
        "FROM `bigquery-public-data.ncaa_basketball.mascots`\n",
        "LIMIT 5;"
      ],
      "metadata": {
        "id": "vBnPJEkgLHtP"
      },
      "execution_count": null,
      "outputs": []
    },
    {
      "cell_type": "markdown",
      "source": [
        "## Window Functions"
      ],
      "metadata": {
        "id": "CKwA3QAjJfFz"
      }
    },
    {
      "cell_type": "markdown",
      "source": [
        "3 queries with OVER, including RANK vs ROW_NUMBER. Please note the FAQs!"
      ],
      "metadata": {
        "id": "s7j7SpYTJiI2"
      }
    },
    {
      "cell_type": "markdown",
      "source": [
        "### Window Function 1:\n"
      ],
      "metadata": {
        "id": "i1a-xFQqLL_E"
      }
    },
    {
      "cell_type": "markdown",
      "source": [
        "Please copy and paste your debug table image here for this query. Otherwise delete this cell."
      ],
      "metadata": {
        "id": "vWDDpRdyLL_F"
      }
    },
    {
      "cell_type": "code",
      "source": [
        "# write code here\n",
        "%%bigquery --project $project_id\n",
        "# make sure you have the header above for each SQL cell\n",
        "\n",
        "# here's an example of a SQL query using the NCAA basketball dataset in bigquery-public-data\n",
        "SELECT id, market, name, mascot, mascot_name\n",
        "FROM `bigquery-public-data.ncaa_basketball.mascots`\n",
        "LIMIT 5;"
      ],
      "metadata": {
        "id": "ymzcAAR3LL_F"
      },
      "execution_count": null,
      "outputs": []
    },
    {
      "cell_type": "markdown",
      "source": [
        "### Window Function 2:\n"
      ],
      "metadata": {
        "id": "lHUepMe5LPqT"
      }
    },
    {
      "cell_type": "markdown",
      "source": [
        "Please copy and paste your debug table image here for this query. Otherwise delete this cell."
      ],
      "metadata": {
        "id": "FwF9tUVLLPqT"
      }
    },
    {
      "cell_type": "code",
      "source": [
        "# write code here\n",
        "%%bigquery --project $project_id\n",
        "# make sure you have the header above for each SQL cell\n",
        "\n",
        "# here's an example of a SQL query using the NCAA basketball dataset in bigquery-public-data\n",
        "SELECT id, market, name, mascot, mascot_name\n",
        "FROM `bigquery-public-data.ncaa_basketball.mascots`\n",
        "LIMIT 5;"
      ],
      "metadata": {
        "id": "p7t96x8gLPqT"
      },
      "execution_count": null,
      "outputs": []
    },
    {
      "cell_type": "markdown",
      "source": [
        "### Window Function 3:\n"
      ],
      "metadata": {
        "id": "tBxvlIx9LP4s"
      }
    },
    {
      "cell_type": "markdown",
      "source": [
        "Please copy and paste your debug table image here for this query. Otherwise delete this cell."
      ],
      "metadata": {
        "id": "gKvdD5eQLP4s"
      }
    },
    {
      "cell_type": "code",
      "source": [
        "# write code here\n",
        "%%bigquery --project $project_id\n",
        "# make sure you have the header above for each SQL cell\n",
        "\n",
        "# here's an example of a SQL query using the NCAA basketball dataset in bigquery-public-data\n",
        "SELECT id, market, name, mascot, mascot_name\n",
        "FROM `bigquery-public-data.ncaa_basketball.mascots`\n",
        "LIMIT 5;"
      ],
      "metadata": {
        "id": "F_0byzF0LP4t"
      },
      "execution_count": null,
      "outputs": []
    },
    {
      "cell_type": "markdown",
      "source": [
        "# Section 4: Exploring Central Questions"
      ],
      "metadata": {
        "id": "_IeIyuMsLVab"
      }
    },
    {
      "cell_type": "markdown",
      "source": [
        "*[Please delete when done reading]Friendly reminder: Do not forget comments!!!*"
      ],
      "metadata": {
        "id": "Ib7AdxqCLmfU"
      }
    },
    {
      "cell_type": "markdown",
      "source": [
        "## Question 1: [Your question]"
      ],
      "metadata": {
        "id": "v1ZFxJrvLX-H"
      }
    },
    {
      "cell_type": "markdown",
      "source": [
        "sql query and analysis"
      ],
      "metadata": {
        "id": "0WQbM8pzLZMF"
      }
    },
    {
      "cell_type": "markdown",
      "source": [
        "## Question 2: [Your question]"
      ],
      "metadata": {
        "id": "rL-cjyFqLfek"
      }
    },
    {
      "cell_type": "markdown",
      "source": [
        "sql query and analysis"
      ],
      "metadata": {
        "id": "VF9FPndpLfek"
      }
    },
    {
      "cell_type": "markdown",
      "source": [
        "## Question 3: [Your question]"
      ],
      "metadata": {
        "id": "5fGm-Uo4LfzH"
      }
    },
    {
      "cell_type": "markdown",
      "source": [
        "sql query and analysis"
      ],
      "metadata": {
        "id": "hWkKCvdmLfzH"
      }
    },
    {
      "cell_type": "markdown",
      "metadata": {
        "id": "Dg7Lhqi_yDcy"
      },
      "source": [
        "# Section 5: Takeaways"
      ]
    },
    {
      "cell_type": "markdown",
      "metadata": {
        "id": "YmVpTigjyHMY"
      },
      "source": [
        "---\n",
        "\n",
        "*TODO: Final conclusions based on the rest of your project*\n",
        "\n",
        "---"
      ]
    }
  ],
  "metadata": {
    "colab": {
      "provenance": [],
      "collapsed_sections": [
        "t2QHCN0xJlXJ",
        "pKtqsVuYKdt6",
        "37FNty6MLEv4",
        "o0_66sToLHtO",
        "i1a-xFQqLL_E",
        "rL-cjyFqLfek",
        "5fGm-Uo4LfzH"
      ],
      "include_colab_link": true
    },
    "kernelspec": {
      "display_name": "Python 3",
      "name": "python3"
    }
  },
  "nbformat": 4,
  "nbformat_minor": 0
}